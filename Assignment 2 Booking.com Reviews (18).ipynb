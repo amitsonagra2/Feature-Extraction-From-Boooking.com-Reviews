{
 "cells": [
  {
   "cell_type": "markdown",
   "id": "39ee8eab",
   "metadata": {},
   "source": [
    "### Assignment Booking.com Feature Extraction"
   ]
  },
  {
   "cell_type": "code",
   "execution_count": 57,
   "id": "22c88925",
   "metadata": {},
   "outputs": [],
   "source": [
    "# importing libraries\n",
    "\n",
    "import os\n",
    "import pickle\n",
    "import pandas as pd\n",
    "import spacy\n",
    "import nltk\n",
    "import sys\n",
    "from tqdm import tqdm\n",
    "import time\n",
    "import ipyparallel\n",
    "from collections import Counter"
   ]
  },
  {
   "cell_type": "code",
   "execution_count": 14,
   "id": "f4799789",
   "metadata": {},
   "outputs": [
    {
     "data": {
      "text/plain": [
       "['tok2vec', 'tagger', 'parser', 'attribute_ruler', 'lemmatizer', 'ner']"
      ]
     },
     "execution_count": 14,
     "metadata": {},
     "output_type": "execute_result"
    }
   ],
   "source": [
    "# loading spacy model\n",
    "\n",
    "sp = spacy.load(\"en_core_web_sm\")\n",
    "sp.max_length = 20000000\n",
    "sp.pipe_names\n",
    "#en_core_web_lg is 79 time larger than en_core_web_sm"
   ]
  },
  {
   "cell_type": "code",
   "execution_count": 12,
   "id": "fc077539",
   "metadata": {},
   "outputs": [
    {
     "data": {
      "text/plain": [
       "'C:\\\\Users\\\\amits\\\\OneDrive - University of South Florida\\\\Fall 2022 Classes\\\\Text Analytics'"
      ]
     },
     "execution_count": 12,
     "metadata": {},
     "output_type": "execute_result"
    }
   ],
   "source": [
    "# checking current directory\n",
    "\n",
    "os.getcwd()"
   ]
  },
  {
   "cell_type": "markdown",
   "id": "ae9d2dcd",
   "metadata": {},
   "source": [
    "File was read above directory and pickled for faster retrieval"
   ]
  },
  {
   "cell_type": "code",
   "execution_count": 393,
   "id": "b9fdcad1",
   "metadata": {},
   "outputs": [],
   "source": [
    "# data = pd.read_excel(r'C:\\Users\\amits\\OneDrive - University of South Florida\\Fall 2022 Classes\\Text Analytics\\week 4 tf idf\\BookingDotCom_HotelReviews.xlsx'\n",
    "#                     ,sheet_name='Data')\n",
    "\n",
    "# removing unnecessary fields to reduce data size\n",
    "# data.drop(columns=['Reviewer_Nationality'], inplace=True)"
   ]
  },
  {
   "cell_type": "code",
   "execution_count": 394,
   "id": "41681f5e",
   "metadata": {},
   "outputs": [],
   "source": [
    "# saving data as binary file\n",
    "# with open('booking_pickle','wb') as pkl_file:\n",
    "#     pickle.dump(data,pkl_file)"
   ]
  },
  {
   "cell_type": "code",
   "execution_count": 15,
   "id": "0bea8aa1",
   "metadata": {},
   "outputs": [],
   "source": [
    "# reading pickled file\n",
    "with open('booking_pickle','rb') as pkl_file:\n",
    "    data = pickle.load(pkl_file)"
   ]
  },
  {
   "cell_type": "code",
   "execution_count": 16,
   "id": "fab1dddc",
   "metadata": {},
   "outputs": [
    {
     "data": {
      "text/html": [
       "<div>\n",
       "<style scoped>\n",
       "    .dataframe tbody tr th:only-of-type {\n",
       "        vertical-align: middle;\n",
       "    }\n",
       "\n",
       "    .dataframe tbody tr th {\n",
       "        vertical-align: top;\n",
       "    }\n",
       "\n",
       "    .dataframe thead th {\n",
       "        text-align: right;\n",
       "    }\n",
       "</style>\n",
       "<table border=\"1\" class=\"dataframe\">\n",
       "  <thead>\n",
       "    <tr style=\"text-align: right;\">\n",
       "      <th></th>\n",
       "      <th>Hotel_Name</th>\n",
       "      <th>Hotel_Address</th>\n",
       "      <th>Review_Count</th>\n",
       "      <th>Non_Review_Scoring_Count</th>\n",
       "      <th>Average_Hotel_Score</th>\n",
       "      <th>Review_Date</th>\n",
       "      <th>Positive_Comments</th>\n",
       "      <th>Negative_Comments</th>\n",
       "      <th>Total_Reviewer_Reviews</th>\n",
       "      <th>Reviewer_Score</th>\n",
       "      <th>Tags</th>\n",
       "    </tr>\n",
       "  </thead>\n",
       "  <tbody>\n",
       "    <tr>\n",
       "      <th>0</th>\n",
       "      <td>Hotel Arena</td>\n",
       "      <td>s Gravesandestraat 55 Oost 1092 AA Amsterdam ...</td>\n",
       "      <td>1403</td>\n",
       "      <td>194</td>\n",
       "      <td>7.7</td>\n",
       "      <td>2017-08-03</td>\n",
       "      <td>Only the park outside of the hotel was beauti...</td>\n",
       "      <td>I am so angry that i made this post available...</td>\n",
       "      <td>7</td>\n",
       "      <td>2.9</td>\n",
       "      <td>[' Leisure trip ', ' Couple ', ' Duplex Double...</td>\n",
       "    </tr>\n",
       "    <tr>\n",
       "      <th>1</th>\n",
       "      <td>Hotel Arena</td>\n",
       "      <td>s Gravesandestraat 55 Oost 1092 AA Amsterdam ...</td>\n",
       "      <td>1403</td>\n",
       "      <td>194</td>\n",
       "      <td>7.7</td>\n",
       "      <td>2017-08-03</td>\n",
       "      <td>No real complaints the hotel was great great ...</td>\n",
       "      <td>No Negative</td>\n",
       "      <td>7</td>\n",
       "      <td>7.5</td>\n",
       "      <td>[' Leisure trip ', ' Couple ', ' Duplex Double...</td>\n",
       "    </tr>\n",
       "  </tbody>\n",
       "</table>\n",
       "</div>"
      ],
      "text/plain": [
       "    Hotel_Name                                      Hotel_Address  \\\n",
       "0  Hotel Arena   s Gravesandestraat 55 Oost 1092 AA Amsterdam ...   \n",
       "1  Hotel Arena   s Gravesandestraat 55 Oost 1092 AA Amsterdam ...   \n",
       "\n",
       "   Review_Count  Non_Review_Scoring_Count  Average_Hotel_Score Review_Date  \\\n",
       "0          1403                       194                  7.7  2017-08-03   \n",
       "1          1403                       194                  7.7  2017-08-03   \n",
       "\n",
       "                                   Positive_Comments  \\\n",
       "0   Only the park outside of the hotel was beauti...   \n",
       "1   No real complaints the hotel was great great ...   \n",
       "\n",
       "                                   Negative_Comments  Total_Reviewer_Reviews  \\\n",
       "0   I am so angry that i made this post available...                       7   \n",
       "1                                        No Negative                       7   \n",
       "\n",
       "   Reviewer_Score                                               Tags  \n",
       "0             2.9  [' Leisure trip ', ' Couple ', ' Duplex Double...  \n",
       "1             7.5  [' Leisure trip ', ' Couple ', ' Duplex Double...  "
      ]
     },
     "execution_count": 16,
     "metadata": {},
     "output_type": "execute_result"
    }
   ],
   "source": [
    "# inspecting data\n",
    "data.head(2)"
   ]
  },
  {
   "cell_type": "markdown",
   "id": "8445a89b",
   "metadata": {},
   "source": [
    "Running Spacy Model on Positive_Comments And Negative_Comments field to extract Noun Phrases"
   ]
  },
  {
   "cell_type": "code",
   "execution_count": 33,
   "id": "cf7e2c0c",
   "metadata": {
    "scrolled": true
   },
   "outputs": [
    {
     "name": "stderr",
     "output_type": "stream",
     "text": [
      "100%|█████████████████████████████████████████████████████████████████████████| 515738/515738 [20:55<00:00, 410.74it/s]\n"
     ]
    }
   ],
   "source": [
    "# resource intentive process\n",
    "\n",
    "sp = spacy.load(\"en_core_web_sm\")\n",
    "\n",
    "# disableing unneccessary pipes to speed up the process\n",
    "sp.disable_pipes(['lemmatizer','ner'])\n",
    "# tok2vec,attribute_ruler,tagger is used in noun chunks, do not disable it\n",
    "\n",
    "# empty lists for storing results\n",
    "pos = list()\n",
    "pos_np = list()\n",
    "pos_doc = list()\n",
    "for i in tqdm(range(len(data))):\n",
    "        pos_np = list()\n",
    "        doc = sp(str(data['Positive_Comments'][i]))\n",
    "        ind_val = data.index.values[i]\n",
    "        pos_doc.append(doc)\n",
    "        for np in doc.noun_chunks:\n",
    "            pos_np.append(np)\n",
    "        pos.append((ind_val,(pos_np)))"
   ]
  },
  {
   "cell_type": "code",
   "execution_count": 37,
   "id": "55fecc9f",
   "metadata": {},
   "outputs": [
    {
     "name": "stderr",
     "output_type": "stream",
     "text": [
      "100%|█████████████████████████████████████████████████████████████████████████| 515738/515738 [23:14<00:00, 369.82it/s]\n"
     ]
    }
   ],
   "source": [
    "# resource intentive process\n",
    "sp = spacy.load(\"en_core_web_sm\")\n",
    "\n",
    "# disableing unneccessary pipes to speed up the process\n",
    "sp.disable_pipes(['lemmatizer','ner'])\n",
    "# tok2vec,attribute_ruler,tagger  is used in noun chunks, do not disable it\n",
    "\n",
    "# empty lists for storing results\n",
    "neg = list()\n",
    "neg_np = list()\n",
    "neg_doc = list()\n",
    "for i in tqdm(range(len(data))):\n",
    "        neg_np = list()\n",
    "        doc = sp(str(data['Negative_Comments'][i]))\n",
    "        ind_val = data.index.values[i]\n",
    "        neg_doc.append(doc)\n",
    "        for np in doc.noun_chunks:\n",
    "            neg_np.append(np)\n",
    "        neg.append((ind_val,(neg_np)))"
   ]
  },
  {
   "cell_type": "code",
   "execution_count": 40,
   "id": "57083cec",
   "metadata": {},
   "outputs": [],
   "source": [
    "# saving spacy doc as binary file\n",
    "# with open('neg_doc','wb') as pkl_file:\n",
    "#     pickle.dump(neg_doc,pkl_file)"
   ]
  },
  {
   "cell_type": "code",
   "execution_count": 41,
   "id": "e9426e1b",
   "metadata": {
    "scrolled": true
   },
   "outputs": [
    {
     "name": "stdout",
     "output_type": "stream",
     "text": [
      "<class 'list'>\n",
      "515738\n",
      "4167352\n"
     ]
    }
   ],
   "source": [
    "print(type(pos))\n",
    "print(len(pos))\n",
    "print(sys.getsizeof(pos))"
   ]
  },
  {
   "cell_type": "code",
   "execution_count": 42,
   "id": "a64f33e1",
   "metadata": {},
   "outputs": [
    {
     "name": "stdout",
     "output_type": "stream",
     "text": [
      "<class 'list'>\n",
      "515738\n",
      "4167352\n"
     ]
    }
   ],
   "source": [
    "print(type(neg))\n",
    "print(len(neg))\n",
    "print(sys.getsizeof(neg))"
   ]
  },
  {
   "cell_type": "code",
   "execution_count": 43,
   "id": "c7aacae5",
   "metadata": {},
   "outputs": [
    {
     "data": {
      "text/html": [
       "<div>\n",
       "<style scoped>\n",
       "    .dataframe tbody tr th:only-of-type {\n",
       "        vertical-align: middle;\n",
       "    }\n",
       "\n",
       "    .dataframe tbody tr th {\n",
       "        vertical-align: top;\n",
       "    }\n",
       "\n",
       "    .dataframe thead th {\n",
       "        text-align: right;\n",
       "    }\n",
       "</style>\n",
       "<table border=\"1\" class=\"dataframe\">\n",
       "  <thead>\n",
       "    <tr style=\"text-align: right;\">\n",
       "      <th></th>\n",
       "      <th>pos_noun_phrases</th>\n",
       "    </tr>\n",
       "    <tr>\n",
       "      <th>id</th>\n",
       "      <th></th>\n",
       "    </tr>\n",
       "  </thead>\n",
       "  <tbody>\n",
       "    <tr>\n",
       "      <th>0</th>\n",
       "      <td>[( , Only, the, park), (the, hotel)]</td>\n",
       "    </tr>\n",
       "    <tr>\n",
       "      <th>1</th>\n",
       "      <td>[(the, hotel), (great, great, location, surrou...</td>\n",
       "    </tr>\n",
       "  </tbody>\n",
       "</table>\n",
       "</div>"
      ],
      "text/plain": [
       "                                     pos_noun_phrases\n",
       "id                                                   \n",
       "0                [( , Only, the, park), (the, hotel)]\n",
       "1   [(the, hotel), (great, great, location, surrou..."
      ]
     },
     "execution_count": 43,
     "metadata": {},
     "output_type": "execute_result"
    }
   ],
   "source": [
    "# saving lists as dataframes\n",
    "\n",
    "df_pos_phrase = pd.DataFrame(pos,columns=['id','pos_noun_phrases'])\n",
    "df_pos_phrase.set_index('id',inplace=True)\n",
    "df_pos_phrase.head(2)\n",
    "\n",
    "# df_pos_phrase.to_csv('df_pos_phrase.csv')"
   ]
  },
  {
   "cell_type": "code",
   "execution_count": 44,
   "id": "689c4f14",
   "metadata": {},
   "outputs": [
    {
     "data": {
      "text/html": [
       "<div>\n",
       "<style scoped>\n",
       "    .dataframe tbody tr th:only-of-type {\n",
       "        vertical-align: middle;\n",
       "    }\n",
       "\n",
       "    .dataframe tbody tr th {\n",
       "        vertical-align: top;\n",
       "    }\n",
       "\n",
       "    .dataframe thead th {\n",
       "        text-align: right;\n",
       "    }\n",
       "</style>\n",
       "<table border=\"1\" class=\"dataframe\">\n",
       "  <thead>\n",
       "    <tr style=\"text-align: right;\">\n",
       "      <th></th>\n",
       "      <th>neg_noun_phrases</th>\n",
       "    </tr>\n",
       "    <tr>\n",
       "      <th>id</th>\n",
       "      <th></th>\n",
       "    </tr>\n",
       "  </thead>\n",
       "  <tbody>\n",
       "    <tr>\n",
       "      <th>0</th>\n",
       "      <td>[(I), (i), (this, post), (all, possible, sites...</td>\n",
       "    </tr>\n",
       "    <tr>\n",
       "      <th>1</th>\n",
       "      <td>[(No, Negative)]</td>\n",
       "    </tr>\n",
       "  </tbody>\n",
       "</table>\n",
       "</div>"
      ],
      "text/plain": [
       "                                     neg_noun_phrases\n",
       "id                                                   \n",
       "0   [(I), (i), (this, post), (all, possible, sites...\n",
       "1                                    [(No, Negative)]"
      ]
     },
     "execution_count": 44,
     "metadata": {},
     "output_type": "execute_result"
    }
   ],
   "source": [
    "df_neg_phrase = pd.DataFrame(neg,columns=['id','neg_noun_phrases'])\n",
    "df_neg_phrase.set_index('id',inplace=True)\n",
    "df_neg_phrase.head(2)\n",
    "\n",
    "# df_neg_phrase.to_csv('df_neg_phrase.csv')"
   ]
  },
  {
   "cell_type": "code",
   "execution_count": 45,
   "id": "3bb4e211",
   "metadata": {
    "scrolled": true
   },
   "outputs": [
    {
     "name": "stdout",
     "output_type": "stream",
     "text": [
      "(515738, 13)\n"
     ]
    },
    {
     "data": {
      "text/html": [
       "<div>\n",
       "<style scoped>\n",
       "    .dataframe tbody tr th:only-of-type {\n",
       "        vertical-align: middle;\n",
       "    }\n",
       "\n",
       "    .dataframe tbody tr th {\n",
       "        vertical-align: top;\n",
       "    }\n",
       "\n",
       "    .dataframe thead th {\n",
       "        text-align: right;\n",
       "    }\n",
       "</style>\n",
       "<table border=\"1\" class=\"dataframe\">\n",
       "  <thead>\n",
       "    <tr style=\"text-align: right;\">\n",
       "      <th></th>\n",
       "      <th>neg_noun_phrases</th>\n",
       "      <th>pos_noun_phrases</th>\n",
       "      <th>Hotel_Name</th>\n",
       "      <th>Hotel_Address</th>\n",
       "      <th>Review_Count</th>\n",
       "      <th>Non_Review_Scoring_Count</th>\n",
       "      <th>Average_Hotel_Score</th>\n",
       "      <th>Review_Date</th>\n",
       "      <th>Positive_Comments</th>\n",
       "      <th>Negative_Comments</th>\n",
       "      <th>Total_Reviewer_Reviews</th>\n",
       "      <th>Reviewer_Score</th>\n",
       "      <th>Tags</th>\n",
       "    </tr>\n",
       "    <tr>\n",
       "      <th>id</th>\n",
       "      <th></th>\n",
       "      <th></th>\n",
       "      <th></th>\n",
       "      <th></th>\n",
       "      <th></th>\n",
       "      <th></th>\n",
       "      <th></th>\n",
       "      <th></th>\n",
       "      <th></th>\n",
       "      <th></th>\n",
       "      <th></th>\n",
       "      <th></th>\n",
       "      <th></th>\n",
       "    </tr>\n",
       "  </thead>\n",
       "  <tbody>\n",
       "    <tr>\n",
       "      <th>0</th>\n",
       "      <td>[(I), (i), (this, post), (all, possible, sites...</td>\n",
       "      <td>[( , Only, the, park), (the, hotel)]</td>\n",
       "      <td>Hotel Arena</td>\n",
       "      <td>s Gravesandestraat 55 Oost 1092 AA Amsterdam ...</td>\n",
       "      <td>1403</td>\n",
       "      <td>194</td>\n",
       "      <td>7.7</td>\n",
       "      <td>2017-08-03</td>\n",
       "      <td>Only the park outside of the hotel was beauti...</td>\n",
       "      <td>I am so angry that i made this post available...</td>\n",
       "      <td>7</td>\n",
       "      <td>2.9</td>\n",
       "      <td>[' Leisure trip ', ' Couple ', ' Duplex Double...</td>\n",
       "    </tr>\n",
       "    <tr>\n",
       "      <th>1</th>\n",
       "      <td>[(No, Negative)]</td>\n",
       "      <td>[(the, hotel), (great, great, location, surrou...</td>\n",
       "      <td>Hotel Arena</td>\n",
       "      <td>s Gravesandestraat 55 Oost 1092 AA Amsterdam ...</td>\n",
       "      <td>1403</td>\n",
       "      <td>194</td>\n",
       "      <td>7.7</td>\n",
       "      <td>2017-08-03</td>\n",
       "      <td>No real complaints the hotel was great great ...</td>\n",
       "      <td>No Negative</td>\n",
       "      <td>7</td>\n",
       "      <td>7.5</td>\n",
       "      <td>[' Leisure trip ', ' Couple ', ' Duplex Double...</td>\n",
       "    </tr>\n",
       "  </tbody>\n",
       "</table>\n",
       "</div>"
      ],
      "text/plain": [
       "                                     neg_noun_phrases  \\\n",
       "id                                                      \n",
       "0   [(I), (i), (this, post), (all, possible, sites...   \n",
       "1                                    [(No, Negative)]   \n",
       "\n",
       "                                     pos_noun_phrases   Hotel_Name  \\\n",
       "id                                                                   \n",
       "0                [( , Only, the, park), (the, hotel)]  Hotel Arena   \n",
       "1   [(the, hotel), (great, great, location, surrou...  Hotel Arena   \n",
       "\n",
       "                                        Hotel_Address  Review_Count  \\\n",
       "id                                                                    \n",
       "0    s Gravesandestraat 55 Oost 1092 AA Amsterdam ...          1403   \n",
       "1    s Gravesandestraat 55 Oost 1092 AA Amsterdam ...          1403   \n",
       "\n",
       "    Non_Review_Scoring_Count  Average_Hotel_Score Review_Date  \\\n",
       "id                                                              \n",
       "0                        194                  7.7  2017-08-03   \n",
       "1                        194                  7.7  2017-08-03   \n",
       "\n",
       "                                    Positive_Comments  \\\n",
       "id                                                      \n",
       "0    Only the park outside of the hotel was beauti...   \n",
       "1    No real complaints the hotel was great great ...   \n",
       "\n",
       "                                    Negative_Comments  Total_Reviewer_Reviews  \\\n",
       "id                                                                              \n",
       "0    I am so angry that i made this post available...                       7   \n",
       "1                                         No Negative                       7   \n",
       "\n",
       "    Reviewer_Score                                               Tags  \n",
       "id                                                                     \n",
       "0              2.9  [' Leisure trip ', ' Couple ', ' Duplex Double...  \n",
       "1              7.5  [' Leisure trip ', ' Couple ', ' Duplex Double...  "
      ]
     },
     "execution_count": 45,
     "metadata": {},
     "output_type": "execute_result"
    }
   ],
   "source": [
    "# joining the positive and negative noun phrases to original dataset on id field\n",
    "\n",
    "data_pos = df_pos_phrase.join(data)\n",
    "data_pos = df_neg_phrase.join(data_pos)\n",
    "\n",
    "print(data_pos.shape)\n",
    "data_pos.head(2)"
   ]
  },
  {
   "cell_type": "code",
   "execution_count": 46,
   "id": "23e0fe61",
   "metadata": {},
   "outputs": [],
   "source": [
    "# adding flag to each each row based on Tags field\n",
    "import ast\n",
    "\n",
    "rowid = list()\n",
    "solo_traveler = list()\n",
    "couple = list()\n",
    "group = list()\n",
    "leisure_trip = list()\n",
    "business_trip = list()\n",
    "family = list()\n",
    "\n",
    "def tags_ext(m):\n",
    "    for i in tqdm(range(m)):\n",
    "        \n",
    "        # extracting index for the row, fes rows might be empty hence can not use system generated index\n",
    "        ind_val = data.index.values[i]\n",
    "        \n",
    "        # cleaning Tag field, removing string quotes and storing it as a list in a variable\n",
    "        tag_clean = ast.literal_eval(data['Tags'][i])\n",
    "        \n",
    "        # removing leading and trailing spaces and assigning flags\n",
    "        st = (1 if 'solo traveler' in [str(k).strip().lower() for k in tag_clean] else 0)\n",
    "        cp = (1 if 'couple' in [str(k).lower().strip() for k in tag_clean] else 0)\n",
    "        gp = (1 if 'group' in [str(k).lower().strip() for k in tag_clean] else 0)\n",
    "        lt = (1 if 'leisure trip' in [str(k).lower().strip() for k in tag_clean] else 0)\n",
    "        bt = (1 if 'business trip' in [str(k).lower().strip() for k in tag_clean] else 0)\n",
    "        fm = (1 if 'family with young children' in [str(k).lower().strip() for k in tag_clean] else 0)\n",
    "        \n",
    "        # appending to list in order\n",
    "        rowid.append(ind_val)\n",
    "        solo_traveler.append(st) \n",
    "        couple.append(cp)\n",
    "        group.append(gp)\n",
    "        leisure_trip.append(lt)\n",
    "        business_trip.append(bt)\n",
    "        family.append(fm)"
   ]
  },
  {
   "cell_type": "code",
   "execution_count": 47,
   "id": "56a9ade8",
   "metadata": {},
   "outputs": [
    {
     "name": "stderr",
     "output_type": "stream",
     "text": [
      "100%|███████████████████████████████████████████████████████████████████████| 515738/515738 [00:09<00:00, 51753.21it/s]\n"
     ]
    }
   ],
   "source": [
    "# running the above function on whole dataset\n",
    "tags_ext(len(data))"
   ]
  },
  {
   "cell_type": "code",
   "execution_count": 48,
   "id": "378cf5fd",
   "metadata": {},
   "outputs": [
    {
     "name": "stdout",
     "output_type": "stream",
     "text": [
      "515738\n",
      "515738\n"
     ]
    }
   ],
   "source": [
    "print(len(data))\n",
    "print(len(rowid))"
   ]
  },
  {
   "cell_type": "code",
   "execution_count": 49,
   "id": "1b3d8fda",
   "metadata": {},
   "outputs": [
    {
     "name": "stdout",
     "output_type": "stream",
     "text": [
      "(515738, 6)\n"
     ]
    }
   ],
   "source": [
    "# saving lists as dataframe\n",
    "\n",
    "df_tags = pd.DataFrame(rowid,columns=['rowid'])\n",
    "df_tags.set_index('rowid',inplace= True)\n",
    "\n",
    "df_tags['solo_traveler'] = solo_traveler\n",
    "df_tags['couple'] = couple\n",
    "df_tags['group'] = group\n",
    "df_tags['leisure_trip'] = leisure_trip\n",
    "df_tags['business_trip'] = business_trip\n",
    "df_tags['family'] = family\n",
    "\n",
    "print(df_tags.shape)\n",
    "df_tags.head(2)\n",
    "\n",
    "# joining tags to original dataset\n",
    "data_pos = data_pos.join(df_tags)"
   ]
  },
  {
   "cell_type": "code",
   "execution_count": 50,
   "id": "6e49aaa1",
   "metadata": {},
   "outputs": [],
   "source": [
    "# dropping Processed fields\n",
    "data_pos.drop(columns=['Tags','Positive_Comments','Negative_Comments'], inplace=True)"
   ]
  },
  {
   "cell_type": "code",
   "execution_count": 51,
   "id": "fa02ef44",
   "metadata": {},
   "outputs": [
    {
     "name": "stdout",
     "output_type": "stream",
     "text": [
      "(515738, 16)\n"
     ]
    },
    {
     "data": {
      "text/html": [
       "<div>\n",
       "<style scoped>\n",
       "    .dataframe tbody tr th:only-of-type {\n",
       "        vertical-align: middle;\n",
       "    }\n",
       "\n",
       "    .dataframe tbody tr th {\n",
       "        vertical-align: top;\n",
       "    }\n",
       "\n",
       "    .dataframe thead th {\n",
       "        text-align: right;\n",
       "    }\n",
       "</style>\n",
       "<table border=\"1\" class=\"dataframe\">\n",
       "  <thead>\n",
       "    <tr style=\"text-align: right;\">\n",
       "      <th></th>\n",
       "      <th>neg_noun_phrases</th>\n",
       "      <th>pos_noun_phrases</th>\n",
       "      <th>Hotel_Name</th>\n",
       "      <th>Hotel_Address</th>\n",
       "      <th>Review_Count</th>\n",
       "      <th>Non_Review_Scoring_Count</th>\n",
       "      <th>Average_Hotel_Score</th>\n",
       "      <th>Review_Date</th>\n",
       "      <th>Total_Reviewer_Reviews</th>\n",
       "      <th>Reviewer_Score</th>\n",
       "      <th>solo_traveler</th>\n",
       "      <th>couple</th>\n",
       "      <th>group</th>\n",
       "      <th>leisure_trip</th>\n",
       "      <th>business_trip</th>\n",
       "      <th>family</th>\n",
       "    </tr>\n",
       "    <tr>\n",
       "      <th>id</th>\n",
       "      <th></th>\n",
       "      <th></th>\n",
       "      <th></th>\n",
       "      <th></th>\n",
       "      <th></th>\n",
       "      <th></th>\n",
       "      <th></th>\n",
       "      <th></th>\n",
       "      <th></th>\n",
       "      <th></th>\n",
       "      <th></th>\n",
       "      <th></th>\n",
       "      <th></th>\n",
       "      <th></th>\n",
       "      <th></th>\n",
       "      <th></th>\n",
       "    </tr>\n",
       "  </thead>\n",
       "  <tbody>\n",
       "    <tr>\n",
       "      <th>0</th>\n",
       "      <td>[(I), (i), (this, post), (all, possible, sites...</td>\n",
       "      <td>[( , Only, the, park), (the, hotel)]</td>\n",
       "      <td>Hotel Arena</td>\n",
       "      <td>s Gravesandestraat 55 Oost 1092 AA Amsterdam ...</td>\n",
       "      <td>1403</td>\n",
       "      <td>194</td>\n",
       "      <td>7.7</td>\n",
       "      <td>2017-08-03</td>\n",
       "      <td>7</td>\n",
       "      <td>2.9</td>\n",
       "      <td>0</td>\n",
       "      <td>1</td>\n",
       "      <td>0</td>\n",
       "      <td>1</td>\n",
       "      <td>0</td>\n",
       "      <td>0</td>\n",
       "    </tr>\n",
       "    <tr>\n",
       "      <th>1</th>\n",
       "      <td>[(No, Negative)]</td>\n",
       "      <td>[(the, hotel), (great, great, location, surrou...</td>\n",
       "      <td>Hotel Arena</td>\n",
       "      <td>s Gravesandestraat 55 Oost 1092 AA Amsterdam ...</td>\n",
       "      <td>1403</td>\n",
       "      <td>194</td>\n",
       "      <td>7.7</td>\n",
       "      <td>2017-08-03</td>\n",
       "      <td>7</td>\n",
       "      <td>7.5</td>\n",
       "      <td>0</td>\n",
       "      <td>1</td>\n",
       "      <td>0</td>\n",
       "      <td>1</td>\n",
       "      <td>0</td>\n",
       "      <td>0</td>\n",
       "    </tr>\n",
       "  </tbody>\n",
       "</table>\n",
       "</div>"
      ],
      "text/plain": [
       "                                     neg_noun_phrases  \\\n",
       "id                                                      \n",
       "0   [(I), (i), (this, post), (all, possible, sites...   \n",
       "1                                    [(No, Negative)]   \n",
       "\n",
       "                                     pos_noun_phrases   Hotel_Name  \\\n",
       "id                                                                   \n",
       "0                [( , Only, the, park), (the, hotel)]  Hotel Arena   \n",
       "1   [(the, hotel), (great, great, location, surrou...  Hotel Arena   \n",
       "\n",
       "                                        Hotel_Address  Review_Count  \\\n",
       "id                                                                    \n",
       "0    s Gravesandestraat 55 Oost 1092 AA Amsterdam ...          1403   \n",
       "1    s Gravesandestraat 55 Oost 1092 AA Amsterdam ...          1403   \n",
       "\n",
       "    Non_Review_Scoring_Count  Average_Hotel_Score Review_Date  \\\n",
       "id                                                              \n",
       "0                        194                  7.7  2017-08-03   \n",
       "1                        194                  7.7  2017-08-03   \n",
       "\n",
       "    Total_Reviewer_Reviews  Reviewer_Score  solo_traveler  couple  group  \\\n",
       "id                                                                         \n",
       "0                        7             2.9              0       1      0   \n",
       "1                        7             7.5              0       1      0   \n",
       "\n",
       "    leisure_trip  business_trip  family  \n",
       "id                                       \n",
       "0              1              0       0  \n",
       "1              1              0       0  "
      ]
     },
     "execution_count": 51,
     "metadata": {},
     "output_type": "execute_result"
    }
   ],
   "source": [
    "print(data_pos.shape)\n",
    "data_pos.head(2)"
   ]
  },
  {
   "cell_type": "code",
   "execution_count": 52,
   "id": "c025aad9",
   "metadata": {},
   "outputs": [
    {
     "data": {
      "text/plain": [
       "spacy.tokens.span.Span"
      ]
     },
     "execution_count": 52,
     "metadata": {},
     "output_type": "execute_result"
    }
   ],
   "source": [
    "# saving final dataset to csv (read list as list and not as strings)\n",
    "# data_pos.to_csv('booking.csv')\n",
    "\n",
    "# data_pos = pd.read_csv('booking.csv')\n",
    "\n",
    "# cant save or pickle span, need to explore on saving mechanism\n",
    "type(data_pos['pos_noun_phrases'][0][0])"
   ]
  },
  {
   "cell_type": "markdown",
   "id": "e06cea59",
   "metadata": {},
   "source": [
    "#### <font color = 'blue'> Question 1 Answer </font>"
   ]
  },
  {
   "cell_type": "code",
   "execution_count": 65,
   "id": "89c0458e",
   "metadata": {},
   "outputs": [],
   "source": [
    "spacy_stopwords = spacy.lang.en.stop_words.STOP_WORDS\n",
    "spacy_stopwords.add('no negative')\n",
    "spacy_stopwords.add('didn t')\n",
    "spacy_stopwords.add('t')\n",
    "def feature_extraction(field_name):\n",
    "    \n",
    "    overall_phrases = list()\n",
    "    \n",
    "    # saving text from noun phrases to list (span type)\n",
    "    for k in tqdm(range(len(data_pos))):\n",
    "        temp = [i.text.strip().lower() for i in data_pos[field_name][k] ]\n",
    "        overall_phrases.extend(temp)\n",
    "\n",
    "    # removing stop words from list\n",
    "\n",
    "    tp = [i for i in overall_phrases if i not in spacy_stopwords ]\n",
    "    phrase_counts = Counter(tp)\n",
    "\n",
    "    if field_name=='pos_noun_phrases':\n",
    "        print('The Top 5 hotel features that customers mention the most in positive reviews')\n",
    "    else:\n",
    "        print('The Top 5 hotel features that customers mention the most in negative reviews')\n",
    "    return phrase_counts.most_common(5)"
   ]
  },
  {
   "cell_type": "markdown",
   "id": "1a83be8a",
   "metadata": {},
   "source": [
    "The Top 5 hotel features that customers mention the most in positive reviews"
   ]
  },
  {
   "cell_type": "code",
   "execution_count": 60,
   "id": "0edd3be0",
   "metadata": {},
   "outputs": [
    {
     "name": "stderr",
     "output_type": "stream",
     "text": [
      "100%|███████████████████████████████████████████████████████████████████████| 515738/515738 [00:05<00:00, 94059.21it/s]\n"
     ]
    },
    {
     "name": "stdout",
     "output_type": "stream",
     "text": [
      "The Top 5 hotel features that customers mention the most in positive reviews\n"
     ]
    },
    {
     "data": {
      "text/plain": [
       "[('the staff', 45068),\n",
       " ('the hotel', 42036),\n",
       " ('location', 40809),\n",
       " ('the room', 37192),\n",
       " ('the location', 31154)]"
      ]
     },
     "execution_count": 60,
     "metadata": {},
     "output_type": "execute_result"
    }
   ],
   "source": [
    "feature_extraction('pos_noun_phrases')"
   ]
  },
  {
   "cell_type": "markdown",
   "id": "274094cc",
   "metadata": {},
   "source": [
    "The Top 5 hotel features that customers mention the most in negative reviews"
   ]
  },
  {
   "cell_type": "code",
   "execution_count": 66,
   "id": "6324f169",
   "metadata": {},
   "outputs": [
    {
     "name": "stderr",
     "output_type": "stream",
     "text": [
      "100%|███████████████████████████████████████████████████████████████████████| 515738/515738 [00:05<00:00, 91917.17it/s]\n"
     ]
    },
    {
     "name": "stdout",
     "output_type": "stream",
     "text": [
      "The Top 5 hotel features that customers mention the most in negative reviews\n"
     ]
    },
    {
     "data": {
      "text/plain": [
       "[('the room', 52573),\n",
       " ('the hotel', 29395),\n",
       " ('room', 23494),\n",
       " ('breakfast', 23487),\n",
       " ('rooms', 10028)]"
      ]
     },
     "execution_count": 66,
     "metadata": {},
     "output_type": "execute_result"
    }
   ],
   "source": [
    "feature_extraction('neg_noun_phrases')"
   ]
  },
  {
   "cell_type": "markdown",
   "id": "4c4bc86a",
   "metadata": {},
   "source": [
    "#### <font color = 'blue'>Question 2 </font>"
   ]
  },
  {
   "cell_type": "code",
   "execution_count": 430,
   "id": "9024f4b9",
   "metadata": {},
   "outputs": [
    {
     "name": "stdout",
     "output_type": "stream",
     "text": [
      "515738\n",
      "108545\n"
     ]
    }
   ],
   "source": [
    "print(len(data_pos))\n",
    "print(len(df_solo))\n",
    "\n",
    "# qc\n",
    "sum(data_pos['solo_traveler'])"
   ]
  },
  {
   "cell_type": "code",
   "execution_count": 92,
   "id": "20dfda68",
   "metadata": {},
   "outputs": [],
   "source": [
    "def tag_features(traveler_type): \n",
    "    \n",
    "    df = data_pos[data_pos[traveler_type]==1]\n",
    "    ind = df.index\n",
    "    positive_phrases = list()\n",
    "    \n",
    "    for k in tqdm(ind):\n",
    "        temp = [i.text.strip().lower() for i in df['pos_noun_phrases'][k] ]\n",
    "        positive_phrases.extend(temp)\n",
    "\n",
    "    pos_five = [i for i in positive_phrases if i not in spacy_stopwords ]\n",
    "    pos_phrase_counts = Counter(pos_five)\n",
    "\n",
    "    print('The Top 5 Hotel Features For', ' '.join(traveler_type.title().split('_')))\n",
    "    return pos_phrase_counts.most_common(5)"
   ]
  },
  {
   "cell_type": "markdown",
   "id": "a153d4c1",
   "metadata": {},
   "source": [
    "The Top 5 Hotel Features For Solo Travelers"
   ]
  },
  {
   "cell_type": "code",
   "execution_count": 93,
   "id": "60783e4e",
   "metadata": {},
   "outputs": [
    {
     "name": "stderr",
     "output_type": "stream",
     "text": [
      "100%|███████████████████████████████████████████████████████████████████████| 108545/108545 [00:01<00:00, 92984.03it/s]\n"
     ]
    },
    {
     "name": "stdout",
     "output_type": "stream",
     "text": [
      "The Top 5 Hotel Features For Solo Traveler\n"
     ]
    },
    {
     "data": {
      "text/plain": [
       "[('location', 8956),\n",
       " ('the staff', 7779),\n",
       " ('the room', 7372),\n",
       " ('the hotel', 6695),\n",
       " ('the location', 5866)]"
      ]
     },
     "execution_count": 93,
     "metadata": {},
     "output_type": "execute_result"
    }
   ],
   "source": [
    "# select from solo_traveler, couple, group, leisure_trip, business_trip, family\n",
    "tag_features('solo_traveler')"
   ]
  },
  {
   "cell_type": "markdown",
   "id": "b9595945",
   "metadata": {},
   "source": [
    "The Top 5 Hotel Features For Couples"
   ]
  },
  {
   "cell_type": "code",
   "execution_count": 94,
   "id": "3ec9afdb",
   "metadata": {},
   "outputs": [
    {
     "name": "stderr",
     "output_type": "stream",
     "text": [
      "100%|███████████████████████████████████████████████████████████████████████| 252294/252294 [00:02<00:00, 87861.97it/s]\n"
     ]
    },
    {
     "name": "stdout",
     "output_type": "stream",
     "text": [
      "The Top 5 Hotel Features For Couple\n"
     ]
    },
    {
     "data": {
      "text/plain": [
       "[('the staff', 23415),\n",
       " ('the hotel', 22218),\n",
       " ('the room', 20133),\n",
       " ('location', 18852),\n",
       " ('staff', 15741)]"
      ]
     },
     "execution_count": 94,
     "metadata": {},
     "output_type": "execute_result"
    }
   ],
   "source": [
    "tag_features('couple')"
   ]
  },
  {
   "cell_type": "markdown",
   "id": "43a997d8",
   "metadata": {},
   "source": [
    "The Top 5 Hotel Features For Group Travellers"
   ]
  },
  {
   "cell_type": "code",
   "execution_count": 95,
   "id": "fad42b92",
   "metadata": {},
   "outputs": [
    {
     "name": "stderr",
     "output_type": "stream",
     "text": [
      "100%|█████████████████████████████████████████████████████████████████████████| 65392/65392 [00:00<00:00, 85881.56it/s]"
     ]
    },
    {
     "name": "stdout",
     "output_type": "stream",
     "text": [
      "The Top 5 Hotel Features For Group\n"
     ]
    },
    {
     "name": "stderr",
     "output_type": "stream",
     "text": [
      "\n"
     ]
    },
    {
     "data": {
      "text/plain": [
       "[('the staff', 5930),\n",
       " ('the hotel', 5608),\n",
       " ('location', 4952),\n",
       " ('the room', 4189),\n",
       " ('the location', 4111)]"
      ]
     },
     "execution_count": 95,
     "metadata": {},
     "output_type": "execute_result"
    }
   ],
   "source": [
    "tag_features('group')"
   ]
  },
  {
   "cell_type": "markdown",
   "id": "1955416b",
   "metadata": {},
   "source": [
    "The Top 5 Hotel Features For Leisure Trips"
   ]
  },
  {
   "cell_type": "code",
   "execution_count": 96,
   "id": "7bafc3d3",
   "metadata": {},
   "outputs": [
    {
     "name": "stderr",
     "output_type": "stream",
     "text": [
      "100%|███████████████████████████████████████████████████████████████████████| 417778/417778 [00:04<00:00, 91948.64it/s]\n"
     ]
    },
    {
     "name": "stdout",
     "output_type": "stream",
     "text": [
      "The Top 5 Hotel Features For Leisure Trip\n"
     ]
    },
    {
     "data": {
      "text/plain": [
       "[('the staff', 39036),\n",
       " ('the hotel', 36703),\n",
       " ('location', 32604),\n",
       " ('the room', 31507),\n",
       " ('the location', 26641)]"
      ]
     },
     "execution_count": 96,
     "metadata": {},
     "output_type": "execute_result"
    }
   ],
   "source": [
    "tag_features('leisure_trip')"
   ]
  },
  {
   "cell_type": "markdown",
   "id": "88ec605b",
   "metadata": {},
   "source": [
    "The Top 5 Hotel Features For Business Trips"
   ]
  },
  {
   "cell_type": "code",
   "execution_count": 97,
   "id": "77301a5f",
   "metadata": {},
   "outputs": [
    {
     "name": "stderr",
     "output_type": "stream",
     "text": [
      "100%|████████████████████████████████████████████████████████████████████████| 82939/82939 [00:00<00:00, 101618.01it/s]"
     ]
    },
    {
     "name": "stdout",
     "output_type": "stream",
     "text": [
      "The Top 5 Hotel Features For Business Trip\n"
     ]
    },
    {
     "name": "stderr",
     "output_type": "stream",
     "text": [
      "\n"
     ]
    },
    {
     "data": {
      "text/plain": [
       "[('location', 7132),\n",
       " ('the staff', 4737),\n",
       " ('the room', 4630),\n",
       " ('the hotel', 4301),\n",
       " ('staff', 4049)]"
      ]
     },
     "execution_count": 97,
     "metadata": {},
     "output_type": "execute_result"
    }
   ],
   "source": [
    "tag_features('business_trip')"
   ]
  },
  {
   "cell_type": "markdown",
   "id": "77760edf",
   "metadata": {},
   "source": [
    "The Top 5 Hotel Features For Family Trips"
   ]
  },
  {
   "cell_type": "code",
   "execution_count": 98,
   "id": "502246fb",
   "metadata": {},
   "outputs": [
    {
     "name": "stderr",
     "output_type": "stream",
     "text": [
      "100%|█████████████████████████████████████████████████████████████████████████| 61015/61015 [00:00<00:00, 87562.66it/s]"
     ]
    },
    {
     "name": "stdout",
     "output_type": "stream",
     "text": [
      "The Top 5 Hotel Features For Family\n"
     ]
    },
    {
     "name": "stderr",
     "output_type": "stream",
     "text": [
      "\n"
     ]
    },
    {
     "data": {
      "text/plain": [
       "[('location', 5422),\n",
       " ('the staff', 5357),\n",
       " ('the hotel', 5176),\n",
       " ('the location', 4106),\n",
       " ('the room', 3833)]"
      ]
     },
     "execution_count": 98,
     "metadata": {},
     "output_type": "execute_result"
    }
   ],
   "source": [
    "tag_features('family')"
   ]
  },
  {
   "cell_type": "markdown",
   "id": "6bd22ee8",
   "metadata": {},
   "source": [
    "#### <font color = 'blue'>Question 3</font>"
   ]
  },
  {
   "cell_type": "code",
   "execution_count": 100,
   "id": "ae21f212",
   "metadata": {},
   "outputs": [
    {
     "name": "stderr",
     "output_type": "stream",
     "text": [
      "100%|█████████████████████████████████████████████████████████████████████████| 515738/515738 [15:58<00:00, 538.29it/s]\n"
     ]
    }
   ],
   "source": [
    "# Named Entity Extraction\n",
    "\n",
    "sp = spacy.load(\"en_core_web_sm\", disable=['tok2vec', 'tagger', 'parser', 'attribute_ruler', 'lemmatizer'])\n",
    "\n",
    "country = list()\n",
    "doc_ner_list = list()\n",
    "\n",
    "for i in tqdm(range(len(data_pos))):\n",
    "    ind_val = data_pos.index.values[i]\n",
    "    doc = sp(data_pos['Hotel_Address'][i])\n",
    "    doc_ner_list.append(doc)\n",
    "    for ent in doc.ents:\n",
    "        if ent.label_ == 'GPE':\n",
    "            country.append((ind_val,ent.text))"
   ]
  },
  {
   "cell_type": "code",
   "execution_count": null,
   "id": "f0f4d066",
   "metadata": {},
   "outputs": [],
   "source": [
    "# saving spacy doc as binary file\n",
    "doc_data = pickle.dumps([doc_ner_list, pos_doc, neg_doc])"
   ]
  },
  {
   "cell_type": "code",
   "execution_count": 101,
   "id": "98038b32",
   "metadata": {},
   "outputs": [
    {
     "name": "stdout",
     "output_type": "stream",
     "text": [
      "809759\n"
     ]
    }
   ],
   "source": [
    "# few rows have multiple GPE\n",
    "print(len(country))"
   ]
  },
  {
   "cell_type": "code",
   "execution_count": 102,
   "id": "1fe713a9",
   "metadata": {},
   "outputs": [],
   "source": [
    "df_country = pd.DataFrame(country, columns = ['id','country'])"
   ]
  },
  {
   "cell_type": "code",
   "execution_count": 103,
   "id": "831b7f47",
   "metadata": {},
   "outputs": [
    {
     "name": "stderr",
     "output_type": "stream",
     "text": [
      "100%|███████████████████████████████████████████████████████████████████████| 809759/809759 [00:10<00:00, 75258.52it/s]\n"
     ]
    }
   ],
   "source": [
    "uk = list()\n",
    "fr = list()\n",
    "it = list()\n",
    "sp = list()\n",
    "\n",
    "# extracting rows indexes from above dataframe for each country \n",
    "for i in tqdm(range(len(df_country))):\n",
    "    ind_val = df_country.index.values[i]\n",
    "    if 'United Kingdom' in (df_country['country'][i]):\n",
    "        uk.append((df_country['id'][i],1))\n",
    "    if 'France' in (df_country['country'][i]):\n",
    "        fr.append((df_country['id'][i],1))\n",
    "    if 'Italy' in (df_country['country'][i]):\n",
    "        it.append((df_country['id'][i],1))\n",
    "    if 'Spain' in (df_country['country'][i]):\n",
    "        sp.append((df_country['id'][i],1))\n",
    "\n",
    "# savinf lists as dataframe with indexes\n",
    "df_uk = pd.DataFrame(uk,columns=['id','uk_yes'])\n",
    "df_uk.set_index('id',inplace=True)\n",
    "\n",
    "df_fr = pd.DataFrame(fr,columns=['id','fr_yes'])\n",
    "df_fr.set_index('id',inplace=True)\n",
    "\n",
    "df_it = pd.DataFrame(it,columns=['id','it_yes'])\n",
    "df_it.set_index('id',inplace=True)\n",
    "\n",
    "df_sp = pd.DataFrame(sp,columns=['id','sp_yes'])\n",
    "df_sp.set_index('id',inplace=True)\n",
    "\n",
    "# joining flags info with original dataset\n",
    "data_flags = data_pos.join(df_uk)\n",
    "data_flags = data_flags.join(df_fr)\n",
    "data_flags = data_flags.join(df_it)\n",
    "data_flags = data_flags.join(df_sp)"
   ]
  },
  {
   "cell_type": "code",
   "execution_count": 106,
   "id": "f31c66a1",
   "metadata": {},
   "outputs": [
    {
     "data": {
      "text/html": [
       "<div>\n",
       "<style scoped>\n",
       "    .dataframe tbody tr th:only-of-type {\n",
       "        vertical-align: middle;\n",
       "    }\n",
       "\n",
       "    .dataframe tbody tr th {\n",
       "        vertical-align: top;\n",
       "    }\n",
       "\n",
       "    .dataframe thead th {\n",
       "        text-align: right;\n",
       "    }\n",
       "</style>\n",
       "<table border=\"1\" class=\"dataframe\">\n",
       "  <thead>\n",
       "    <tr style=\"text-align: right;\">\n",
       "      <th></th>\n",
       "      <th>neg_noun_phrases</th>\n",
       "      <th>pos_noun_phrases</th>\n",
       "      <th>Hotel_Name</th>\n",
       "      <th>Hotel_Address</th>\n",
       "      <th>Review_Count</th>\n",
       "      <th>Non_Review_Scoring_Count</th>\n",
       "      <th>Average_Hotel_Score</th>\n",
       "      <th>Review_Date</th>\n",
       "      <th>Total_Reviewer_Reviews</th>\n",
       "      <th>Reviewer_Score</th>\n",
       "      <th>solo_traveler</th>\n",
       "      <th>couple</th>\n",
       "      <th>group</th>\n",
       "      <th>leisure_trip</th>\n",
       "      <th>business_trip</th>\n",
       "      <th>family</th>\n",
       "      <th>uk_yes</th>\n",
       "      <th>fr_yes</th>\n",
       "      <th>it_yes</th>\n",
       "      <th>sp_yes</th>\n",
       "    </tr>\n",
       "    <tr>\n",
       "      <th>id</th>\n",
       "      <th></th>\n",
       "      <th></th>\n",
       "      <th></th>\n",
       "      <th></th>\n",
       "      <th></th>\n",
       "      <th></th>\n",
       "      <th></th>\n",
       "      <th></th>\n",
       "      <th></th>\n",
       "      <th></th>\n",
       "      <th></th>\n",
       "      <th></th>\n",
       "      <th></th>\n",
       "      <th></th>\n",
       "      <th></th>\n",
       "      <th></th>\n",
       "      <th></th>\n",
       "      <th></th>\n",
       "      <th></th>\n",
       "      <th></th>\n",
       "    </tr>\n",
       "  </thead>\n",
       "  <tbody>\n",
       "    <tr>\n",
       "      <th>0</th>\n",
       "      <td>[(I), (i), (this, post), (all, possible, sites...</td>\n",
       "      <td>[( , Only, the, park), (the, hotel)]</td>\n",
       "      <td>Hotel Arena</td>\n",
       "      <td>s Gravesandestraat 55 Oost 1092 AA Amsterdam ...</td>\n",
       "      <td>1403</td>\n",
       "      <td>194</td>\n",
       "      <td>7.7</td>\n",
       "      <td>2017-08-03</td>\n",
       "      <td>7</td>\n",
       "      <td>2.9</td>\n",
       "      <td>0</td>\n",
       "      <td>1</td>\n",
       "      <td>0</td>\n",
       "      <td>1</td>\n",
       "      <td>0</td>\n",
       "      <td>0</td>\n",
       "      <td>NaN</td>\n",
       "      <td>NaN</td>\n",
       "      <td>NaN</td>\n",
       "      <td>NaN</td>\n",
       "    </tr>\n",
       "    <tr>\n",
       "      <th>1</th>\n",
       "      <td>[(No, Negative)]</td>\n",
       "      <td>[(the, hotel), (great, great, location, surrou...</td>\n",
       "      <td>Hotel Arena</td>\n",
       "      <td>s Gravesandestraat 55 Oost 1092 AA Amsterdam ...</td>\n",
       "      <td>1403</td>\n",
       "      <td>194</td>\n",
       "      <td>7.7</td>\n",
       "      <td>2017-08-03</td>\n",
       "      <td>7</td>\n",
       "      <td>7.5</td>\n",
       "      <td>0</td>\n",
       "      <td>1</td>\n",
       "      <td>0</td>\n",
       "      <td>1</td>\n",
       "      <td>0</td>\n",
       "      <td>0</td>\n",
       "      <td>NaN</td>\n",
       "      <td>NaN</td>\n",
       "      <td>NaN</td>\n",
       "      <td>NaN</td>\n",
       "    </tr>\n",
       "  </tbody>\n",
       "</table>\n",
       "</div>"
      ],
      "text/plain": [
       "                                     neg_noun_phrases  \\\n",
       "id                                                      \n",
       "0   [(I), (i), (this, post), (all, possible, sites...   \n",
       "1                                    [(No, Negative)]   \n",
       "\n",
       "                                     pos_noun_phrases   Hotel_Name  \\\n",
       "id                                                                   \n",
       "0                [( , Only, the, park), (the, hotel)]  Hotel Arena   \n",
       "1   [(the, hotel), (great, great, location, surrou...  Hotel Arena   \n",
       "\n",
       "                                        Hotel_Address  Review_Count  \\\n",
       "id                                                                    \n",
       "0    s Gravesandestraat 55 Oost 1092 AA Amsterdam ...          1403   \n",
       "1    s Gravesandestraat 55 Oost 1092 AA Amsterdam ...          1403   \n",
       "\n",
       "    Non_Review_Scoring_Count  Average_Hotel_Score Review_Date  \\\n",
       "id                                                              \n",
       "0                        194                  7.7  2017-08-03   \n",
       "1                        194                  7.7  2017-08-03   \n",
       "\n",
       "    Total_Reviewer_Reviews  Reviewer_Score  solo_traveler  couple  group  \\\n",
       "id                                                                         \n",
       "0                        7             2.9              0       1      0   \n",
       "1                        7             7.5              0       1      0   \n",
       "\n",
       "    leisure_trip  business_trip  family  uk_yes  fr_yes  it_yes  sp_yes  \n",
       "id                                                                       \n",
       "0              1              0       0     NaN     NaN     NaN     NaN  \n",
       "1              1              0       0     NaN     NaN     NaN     NaN  "
      ]
     },
     "execution_count": 106,
     "metadata": {},
     "output_type": "execute_result"
    }
   ],
   "source": [
    "data_flags.head(2)"
   ]
  },
  {
   "cell_type": "code",
   "execution_count": 110,
   "id": "3ed8e4cf",
   "metadata": {},
   "outputs": [],
   "source": [
    "# function for extracting top 5 negative complaints from the review\n",
    "def negative_complaints(country):\n",
    "    negative_phrases = list()\n",
    "    ind = data_flags[data_flags[country]==1].index\n",
    "    \n",
    "    for k in tqdm(ind):\n",
    "        temp = [i.text.strip().lower() for i in data_flags['neg_noun_phrases'][k] ]\n",
    "        negative_phrases.extend(temp)\n",
    "\n",
    "    neg_five = [i for i in negative_phrases if i not in spacy_stopwords ]\n",
    "    neg_phrase_counts = Counter(neg_five)\n",
    "    print('The Top 5 Complaints For Hotels In The', country[0:2].upper())\n",
    "    return neg_phrase_counts.most_common(5)\n",
    "\n",
    "# function for extracting top 5 positive features from the review\n",
    "def positive_features(country):\n",
    "    positive_phrases = list()\n",
    "    ind = data_flags[data_flags[country]==1].index\n",
    "    \n",
    "    for k in tqdm(ind):\n",
    "        temp = [i.text.strip().lower() for i in data_flags['pos_noun_phrases'][k] ]\n",
    "        positive_phrases.extend(temp)\n",
    "\n",
    "    pos_five = [i for i in positive_phrases if i not in spacy_stopwords ]\n",
    "    pos_phrase_counts = Counter(pos_five)\n",
    "    print('The Top 5 Preffered Hotel Features For Hotels In The', country[0:2].upper())\n",
    "    return pos_phrase_counts.most_common(5)"
   ]
  },
  {
   "cell_type": "markdown",
   "id": "f8f1a2b5",
   "metadata": {},
   "source": [
    "The Top 5 Preffered Hotel Features For Hotels In The UK"
   ]
  },
  {
   "cell_type": "code",
   "execution_count": 111,
   "id": "2212629f",
   "metadata": {},
   "outputs": [
    {
     "name": "stderr",
     "output_type": "stream",
     "text": [
      "100%|███████████████████████████████████████████████████████████████████████| 258865/258865 [00:02<00:00, 95433.20it/s]\n"
     ]
    },
    {
     "name": "stdout",
     "output_type": "stream",
     "text": [
      "The Top 5 Preffered Hotel Features For Hotels In The UK\n"
     ]
    },
    {
     "data": {
      "text/plain": [
       "[('the staff', 21459),\n",
       " ('location', 20937),\n",
       " ('the room', 18327),\n",
       " ('the hotel', 16932),\n",
       " ('staff', 16476)]"
      ]
     },
     "execution_count": 111,
     "metadata": {},
     "output_type": "execute_result"
    }
   ],
   "source": [
    "positive_features('uk_yes')"
   ]
  },
  {
   "cell_type": "markdown",
   "id": "d3097fb9",
   "metadata": {},
   "source": [
    "The Top 5 Complaints For Hotels In The United Kingdon"
   ]
  },
  {
   "cell_type": "code",
   "execution_count": 112,
   "id": "a8d9cb0b",
   "metadata": {},
   "outputs": [
    {
     "name": "stderr",
     "output_type": "stream",
     "text": [
      "100%|███████████████████████████████████████████████████████████████████████| 258865/258865 [00:08<00:00, 30280.46it/s]\n"
     ]
    },
    {
     "name": "stdout",
     "output_type": "stream",
     "text": [
      "The Top 5 Complaints For Hotels In The UK\n"
     ]
    },
    {
     "data": {
      "text/plain": [
       "[('the room', 27806),\n",
       " ('room', 14197),\n",
       " ('the hotel', 12718),\n",
       " ('breakfast', 12553),\n",
       " ('the bed', 5752)]"
      ]
     },
     "execution_count": 112,
     "metadata": {},
     "output_type": "execute_result"
    }
   ],
   "source": [
    "negative_complaints('uk_yes')"
   ]
  },
  {
   "cell_type": "markdown",
   "id": "4f609ef7",
   "metadata": {},
   "source": [
    "The Top 5 Preffered Hotel Features For Hotesl In The France"
   ]
  },
  {
   "cell_type": "code",
   "execution_count": 113,
   "id": "53a1d9b0",
   "metadata": {},
   "outputs": [
    {
     "name": "stderr",
     "output_type": "stream",
     "text": [
      "100%|███████████████████████████████████████████████████████████████████████████| 1506/1506 [00:00<00:00, 24769.80it/s]"
     ]
    },
    {
     "name": "stdout",
     "output_type": "stream",
     "text": [
      "The Top 5 Preffered Hotel Features For Hotels In The FR\n"
     ]
    },
    {
     "name": "stderr",
     "output_type": "stream",
     "text": [
      "\n"
     ]
    },
    {
     "data": {
      "text/plain": [
       "[('the staff', 194),\n",
       " ('the hotel', 169),\n",
       " ('the location', 141),\n",
       " ('paris', 137),\n",
       " ('the room', 131)]"
      ]
     },
     "execution_count": 113,
     "metadata": {},
     "output_type": "execute_result"
    }
   ],
   "source": [
    "positive_features('fr_yes')"
   ]
  },
  {
   "cell_type": "markdown",
   "id": "5a4bb19f",
   "metadata": {},
   "source": [
    "The Top 5 Complaints For Hotels In The France"
   ]
  },
  {
   "cell_type": "code",
   "execution_count": 114,
   "id": "9fbf287a",
   "metadata": {},
   "outputs": [
    {
     "name": "stderr",
     "output_type": "stream",
     "text": [
      "100%|███████████████████████████████████████████████████████████████████████████| 1506/1506 [00:00<00:00, 18092.93it/s]"
     ]
    },
    {
     "name": "stdout",
     "output_type": "stream",
     "text": [
      "The Top 5 Complaints For Hotels In The FR\n"
     ]
    },
    {
     "name": "stderr",
     "output_type": "stream",
     "text": [
      "\n"
     ]
    },
    {
     "data": {
      "text/plain": [
       "[('the room', 111),\n",
       " ('breakfast', 73),\n",
       " ('room', 66),\n",
       " ('the hotel', 57),\n",
       " ('paris', 44)]"
      ]
     },
     "execution_count": 114,
     "metadata": {},
     "output_type": "execute_result"
    }
   ],
   "source": [
    "negative_complaints('fr_yes')"
   ]
  },
  {
   "cell_type": "markdown",
   "id": "c22a6205",
   "metadata": {},
   "source": [
    "The Top 5 Preffered Hotel Features For Hotesl In The Italy"
   ]
  },
  {
   "cell_type": "code",
   "execution_count": 115,
   "id": "f70b4466",
   "metadata": {},
   "outputs": [
    {
     "name": "stderr",
     "output_type": "stream",
     "text": [
      "100%|█████████████████████████████████████████████████████████████████████████| 37207/37207 [00:00<00:00, 66576.28it/s]\n"
     ]
    },
    {
     "name": "stdout",
     "output_type": "stream",
     "text": [
      "The Top 5 Preffered Hotel Features For Hotels In The IT\n"
     ]
    },
    {
     "data": {
      "text/plain": [
       "[('the hotel', 3402),\n",
       " ('the staff', 2837),\n",
       " ('location', 2824),\n",
       " ('the room', 2589),\n",
       " ('breakfast', 2164)]"
      ]
     },
     "execution_count": 115,
     "metadata": {},
     "output_type": "execute_result"
    }
   ],
   "source": [
    "positive_features('it_yes')"
   ]
  },
  {
   "cell_type": "markdown",
   "id": "73c46d0f",
   "metadata": {},
   "source": [
    "The Top 5 Complaints For Hotels In The Italy"
   ]
  },
  {
   "cell_type": "code",
   "execution_count": 116,
   "id": "b5206915",
   "metadata": {},
   "outputs": [
    {
     "name": "stderr",
     "output_type": "stream",
     "text": [
      "100%|█████████████████████████████████████████████████████████████████████████| 37207/37207 [00:00<00:00, 57469.80it/s]"
     ]
    },
    {
     "name": "stdout",
     "output_type": "stream",
     "text": [
      "The Top 5 Complaints For Hotels In The IT\n"
     ]
    },
    {
     "name": "stderr",
     "output_type": "stream",
     "text": [
      "\n"
     ]
    },
    {
     "data": {
      "text/plain": [
       "[('the room', 3289),\n",
       " ('the hotel', 2650),\n",
       " ('breakfast', 1830),\n",
       " ('room', 1092),\n",
       " ('the staff', 778)]"
      ]
     },
     "execution_count": 116,
     "metadata": {},
     "output_type": "execute_result"
    }
   ],
   "source": [
    "negative_complaints('it_yes')"
   ]
  },
  {
   "cell_type": "markdown",
   "id": "4a57914a",
   "metadata": {},
   "source": [
    "The Top 5 Preffered Hotel Features For Hotesl In The Spain"
   ]
  },
  {
   "cell_type": "code",
   "execution_count": 119,
   "id": "499c9648",
   "metadata": {},
   "outputs": [
    {
     "name": "stderr",
     "output_type": "stream",
     "text": [
      "100%|█████████████████████████████████████████████████████████████████████████| 60149/60149 [00:01<00:00, 53884.13it/s]"
     ]
    },
    {
     "name": "stdout",
     "output_type": "stream",
     "text": [
      "The Top 5 Preffered Hotel Features For Hotels In The SP\n"
     ]
    },
    {
     "name": "stderr",
     "output_type": "stream",
     "text": [
      "\n"
     ]
    },
    {
     "data": {
      "text/plain": [
       "[('the staff', 5964),\n",
       " ('the hotel', 5914),\n",
       " ('location', 4850),\n",
       " ('the location', 4092),\n",
       " ('the room', 3991)]"
      ]
     },
     "execution_count": 119,
     "metadata": {},
     "output_type": "execute_result"
    }
   ],
   "source": [
    "positive_features('sp_yes')"
   ]
  },
  {
   "cell_type": "markdown",
   "id": "96ef8a38",
   "metadata": {},
   "source": [
    "The Top 5 Complaints For Hotels In The Spain"
   ]
  },
  {
   "cell_type": "code",
   "execution_count": 117,
   "id": "b9ec6a10",
   "metadata": {},
   "outputs": [
    {
     "name": "stderr",
     "output_type": "stream",
     "text": [
      "100%|█████████████████████████████████████████████████████████████████████████| 60149/60149 [00:01<00:00, 54358.58it/s]\n"
     ]
    },
    {
     "name": "stdout",
     "output_type": "stream",
     "text": [
      "The Top 5 Complaints For Hotels In The SP\n"
     ]
    },
    {
     "data": {
      "text/plain": [
       "[('the room', 5733),\n",
       " ('the hotel', 3795),\n",
       " ('breakfast', 2310),\n",
       " ('room', 2161),\n",
       " ('our room', 1141)]"
      ]
     },
     "execution_count": 117,
     "metadata": {},
     "output_type": "execute_result"
    }
   ],
   "source": [
    "# pick country from country = 'it_yes','sp_yes','fr_yes','uk_yes'\n",
    "negative_complaints('sp_yes')"
   ]
  },
  {
   "cell_type": "markdown",
   "id": "510d3efa",
   "metadata": {},
   "source": [
    "#### <font color='blue'> Question 4 </font>"
   ]
  },
  {
   "cell_type": "code",
   "execution_count": 120,
   "id": "cff96a2a",
   "metadata": {},
   "outputs": [
    {
     "data": {
      "text/plain": [
       "1492"
      ]
     },
     "execution_count": 120,
     "metadata": {},
     "output_type": "execute_result"
    }
   ],
   "source": [
    "# total hotels\n",
    "len(set(data_flags['Hotel_Name']))"
   ]
  },
  {
   "cell_type": "code",
   "execution_count": 126,
   "id": "d1025fb4",
   "metadata": {},
   "outputs": [],
   "source": [
    "# extracting year field from date field\n",
    "\n",
    "yr_list = list()\n",
    "for i in range(len(data_flags)):\n",
    "    ind_val = data_pos.index.values[i]\n",
    "    yr_list.append((ind_val,data_flags['Review_Date'][i].year))"
   ]
  },
  {
   "cell_type": "code",
   "execution_count": 127,
   "id": "5029ae3e",
   "metadata": {},
   "outputs": [
    {
     "data": {
      "text/html": [
       "<div>\n",
       "<style scoped>\n",
       "    .dataframe tbody tr th:only-of-type {\n",
       "        vertical-align: middle;\n",
       "    }\n",
       "\n",
       "    .dataframe tbody tr th {\n",
       "        vertical-align: top;\n",
       "    }\n",
       "\n",
       "    .dataframe thead th {\n",
       "        text-align: right;\n",
       "    }\n",
       "</style>\n",
       "<table border=\"1\" class=\"dataframe\">\n",
       "  <thead>\n",
       "    <tr style=\"text-align: right;\">\n",
       "      <th></th>\n",
       "      <th>yr</th>\n",
       "    </tr>\n",
       "    <tr>\n",
       "      <th>id</th>\n",
       "      <th></th>\n",
       "    </tr>\n",
       "  </thead>\n",
       "  <tbody>\n",
       "    <tr>\n",
       "      <th>0</th>\n",
       "      <td>2017</td>\n",
       "    </tr>\n",
       "    <tr>\n",
       "      <th>1</th>\n",
       "      <td>2017</td>\n",
       "    </tr>\n",
       "  </tbody>\n",
       "</table>\n",
       "</div>"
      ],
      "text/plain": [
       "      yr\n",
       "id      \n",
       "0   2017\n",
       "1   2017"
      ]
     },
     "execution_count": 127,
     "metadata": {},
     "output_type": "execute_result"
    }
   ],
   "source": [
    "# list to dataframe\n",
    "\n",
    "df_yr_list = pd.DataFrame(yr_list,columns=['id','yr'])\n",
    "df_yr_list.set_index('id',inplace=True)\n",
    "df_yr_list.head(2)"
   ]
  },
  {
   "cell_type": "code",
   "execution_count": 128,
   "id": "f62d0fce",
   "metadata": {},
   "outputs": [
    {
     "data": {
      "text/plain": [
       "Index(['neg_noun_phrases', 'pos_noun_phrases', 'Hotel_Name', 'Hotel_Address',\n",
       "       'Review_Count', 'Non_Review_Scoring_Count', 'Average_Hotel_Score',\n",
       "       'Review_Date', 'Total_Reviewer_Reviews', 'Reviewer_Score',\n",
       "       'solo_traveler', 'couple', 'group', 'leisure_trip', 'business_trip',\n",
       "       'family', 'uk_yes', 'fr_yes', 'it_yes', 'sp_yes'],\n",
       "      dtype='object')"
      ]
     },
     "execution_count": 128,
     "metadata": {},
     "output_type": "execute_result"
    }
   ],
   "source": [
    "data_flags.columns"
   ]
  },
  {
   "cell_type": "code",
   "execution_count": 131,
   "id": "7c099372",
   "metadata": {},
   "outputs": [
    {
     "data": {
      "text/html": [
       "<div>\n",
       "<style scoped>\n",
       "    .dataframe tbody tr th:only-of-type {\n",
       "        vertical-align: middle;\n",
       "    }\n",
       "\n",
       "    .dataframe tbody tr th {\n",
       "        vertical-align: top;\n",
       "    }\n",
       "\n",
       "    .dataframe thead th {\n",
       "        text-align: right;\n",
       "    }\n",
       "</style>\n",
       "<table border=\"1\" class=\"dataframe\">\n",
       "  <thead>\n",
       "    <tr style=\"text-align: right;\">\n",
       "      <th></th>\n",
       "      <th>Hotel_Name</th>\n",
       "      <th>yr</th>\n",
       "      <th>Reviewer_Score</th>\n",
       "    </tr>\n",
       "    <tr>\n",
       "      <th>id</th>\n",
       "      <th></th>\n",
       "      <th></th>\n",
       "      <th></th>\n",
       "    </tr>\n",
       "  </thead>\n",
       "  <tbody>\n",
       "    <tr>\n",
       "      <th>0</th>\n",
       "      <td>Hotel Arena</td>\n",
       "      <td>2017</td>\n",
       "      <td>2.9</td>\n",
       "    </tr>\n",
       "    <tr>\n",
       "      <th>1</th>\n",
       "      <td>Hotel Arena</td>\n",
       "      <td>2017</td>\n",
       "      <td>7.5</td>\n",
       "    </tr>\n",
       "    <tr>\n",
       "      <th>2</th>\n",
       "      <td>Hotel Arena</td>\n",
       "      <td>2017</td>\n",
       "      <td>7.1</td>\n",
       "    </tr>\n",
       "  </tbody>\n",
       "</table>\n",
       "</div>"
      ],
      "text/plain": [
       "     Hotel_Name    yr  Reviewer_Score\n",
       "id                                   \n",
       "0   Hotel Arena  2017             2.9\n",
       "1   Hotel Arena  2017             7.5\n",
       "2   Hotel Arena  2017             7.1"
      ]
     },
     "execution_count": 131,
     "metadata": {},
     "output_type": "execute_result"
    }
   ],
   "source": [
    "# joining ye with original data\n",
    "data_flags = data_flags.join(df_yr_list)\n",
    "\n",
    "# subsetting data for the analysis\n",
    "\n",
    "data_avg_ratings = data_flags[['Hotel_Name','yr','Reviewer_Score']]\n",
    "data_avg_ratings.head(3)"
   ]
  },
  {
   "cell_type": "code",
   "execution_count": 132,
   "id": "d7eca76d",
   "metadata": {},
   "outputs": [
    {
     "data": {
      "text/html": [
       "<div>\n",
       "<style scoped>\n",
       "    .dataframe tbody tr th:only-of-type {\n",
       "        vertical-align: middle;\n",
       "    }\n",
       "\n",
       "    .dataframe tbody tr th {\n",
       "        vertical-align: top;\n",
       "    }\n",
       "\n",
       "    .dataframe thead th {\n",
       "        text-align: right;\n",
       "    }\n",
       "</style>\n",
       "<table border=\"1\" class=\"dataframe\">\n",
       "  <thead>\n",
       "    <tr style=\"text-align: right;\">\n",
       "      <th></th>\n",
       "      <th>Hotel_Name</th>\n",
       "      <th>yr</th>\n",
       "      <th>mean</th>\n",
       "    </tr>\n",
       "  </thead>\n",
       "  <tbody>\n",
       "    <tr>\n",
       "      <th>0</th>\n",
       "      <td>41</td>\n",
       "      <td>2015</td>\n",
       "      <td>9.743333</td>\n",
       "    </tr>\n",
       "    <tr>\n",
       "      <th>1</th>\n",
       "      <td>41</td>\n",
       "      <td>2016</td>\n",
       "      <td>9.652083</td>\n",
       "    </tr>\n",
       "    <tr>\n",
       "      <th>2</th>\n",
       "      <td>41</td>\n",
       "      <td>2017</td>\n",
       "      <td>9.788000</td>\n",
       "    </tr>\n",
       "    <tr>\n",
       "      <th>3</th>\n",
       "      <td>11 Cadogan Gardens</td>\n",
       "      <td>2015</td>\n",
       "      <td>8.016000</td>\n",
       "    </tr>\n",
       "    <tr>\n",
       "      <th>4</th>\n",
       "      <td>11 Cadogan Gardens</td>\n",
       "      <td>2016</td>\n",
       "      <td>8.954321</td>\n",
       "    </tr>\n",
       "    <tr>\n",
       "      <th>5</th>\n",
       "      <td>11 Cadogan Gardens</td>\n",
       "      <td>2017</td>\n",
       "      <td>9.069811</td>\n",
       "    </tr>\n",
       "  </tbody>\n",
       "</table>\n",
       "</div>"
      ],
      "text/plain": [
       "           Hotel_Name    yr      mean\n",
       "0                  41  2015  9.743333\n",
       "1                  41  2016  9.652083\n",
       "2                  41  2017  9.788000\n",
       "3  11 Cadogan Gardens  2015  8.016000\n",
       "4  11 Cadogan Gardens  2016  8.954321\n",
       "5  11 Cadogan Gardens  2017  9.069811"
      ]
     },
     "execution_count": 132,
     "metadata": {},
     "output_type": "execute_result"
    }
   ],
   "source": [
    "# avg rating for each year\n",
    "\n",
    "avg_hotel_ratings = data_avg_ratings.groupby(['Hotel_Name','yr'])['Reviewer_Score'].agg({'mean'})\n",
    "avg_hotel_ratings.reset_index(inplace=True)\n",
    "avg_hotel_ratings.head(6)"
   ]
  },
  {
   "cell_type": "code",
   "execution_count": 133,
   "id": "e32421a7",
   "metadata": {},
   "outputs": [],
   "source": [
    "# calculating mean avg rating using user ratings between 2015-17 to find top 5 and bottom 5 hotels\n",
    "\n",
    "avg = avg_hotel_ratings.groupby(['Hotel_Name'])['mean'].agg({'mean'})\n",
    "avg_final = avg_hotel_ratings.merge(avg,on='Hotel_Name')\n",
    "avg_final.sort_values('mean_y',inplace=True,ascending=False)"
   ]
  },
  {
   "cell_type": "code",
   "execution_count": 134,
   "id": "8794d1e3",
   "metadata": {},
   "outputs": [],
   "source": [
    "# Taking first 5 hotels and bottom 5 hotels for 3 years from sorted dataframe\n",
    "\n",
    "top5 = avg_final.head(15)\n",
    "bottom5 = avg_final.tail(15)\n",
    "top5.reset_index(inplace=True)"
   ]
  },
  {
   "cell_type": "code",
   "execution_count": 135,
   "id": "266609b5",
   "metadata": {},
   "outputs": [
    {
     "data": {
      "text/html": [
       "<div>\n",
       "<style scoped>\n",
       "    .dataframe tbody tr th:only-of-type {\n",
       "        vertical-align: middle;\n",
       "    }\n",
       "\n",
       "    .dataframe tbody tr th {\n",
       "        vertical-align: top;\n",
       "    }\n",
       "\n",
       "    .dataframe thead th {\n",
       "        text-align: right;\n",
       "    }\n",
       "</style>\n",
       "<table border=\"1\" class=\"dataframe\">\n",
       "  <thead>\n",
       "    <tr style=\"text-align: right;\">\n",
       "      <th>yr</th>\n",
       "      <th>Hotel_Name</th>\n",
       "      <th>2015</th>\n",
       "      <th>2016</th>\n",
       "      <th>2017</th>\n",
       "      <th>diff</th>\n",
       "    </tr>\n",
       "  </thead>\n",
       "  <tbody>\n",
       "    <tr>\n",
       "      <th>883</th>\n",
       "      <td>Le Lavoisier</td>\n",
       "      <td>2.500000</td>\n",
       "      <td>8.150000</td>\n",
       "      <td>10.000000</td>\n",
       "      <td>-7.500000</td>\n",
       "    </tr>\n",
       "    <tr>\n",
       "      <th>987</th>\n",
       "      <td>Mercure Paris Bastille Saint Antoine</td>\n",
       "      <td>5.000000</td>\n",
       "      <td>7.478571</td>\n",
       "      <td>7.566667</td>\n",
       "      <td>-2.566667</td>\n",
       "    </tr>\n",
       "    <tr>\n",
       "      <th>853</th>\n",
       "      <td>L Edmond H tel</td>\n",
       "      <td>6.450000</td>\n",
       "      <td>8.171429</td>\n",
       "      <td>8.572727</td>\n",
       "      <td>-2.122727</td>\n",
       "    </tr>\n",
       "    <tr>\n",
       "      <th>1012</th>\n",
       "      <td>MiHotel</td>\n",
       "      <td>7.125000</td>\n",
       "      <td>8.810000</td>\n",
       "      <td>9.075000</td>\n",
       "      <td>-1.950000</td>\n",
       "    </tr>\n",
       "    <tr>\n",
       "      <th>1456</th>\n",
       "      <td>Villa Lut ce Port Royal</td>\n",
       "      <td>5.594444</td>\n",
       "      <td>6.741667</td>\n",
       "      <td>7.520000</td>\n",
       "      <td>-1.925556</td>\n",
       "    </tr>\n",
       "  </tbody>\n",
       "</table>\n",
       "</div>"
      ],
      "text/plain": [
       "yr                              Hotel_Name      2015      2016       2017  \\\n",
       "883                           Le Lavoisier  2.500000  8.150000  10.000000   \n",
       "987   Mercure Paris Bastille Saint Antoine  5.000000  7.478571   7.566667   \n",
       "853                         L Edmond H tel  6.450000  8.171429   8.572727   \n",
       "1012                               MiHotel  7.125000  8.810000   9.075000   \n",
       "1456               Villa Lut ce Port Royal  5.594444  6.741667   7.520000   \n",
       "\n",
       "yr        diff  \n",
       "883  -7.500000  \n",
       "987  -2.566667  \n",
       "853  -2.122727  \n",
       "1012 -1.950000  \n",
       "1456 -1.925556  "
      ]
     },
     "execution_count": 135,
     "metadata": {},
     "output_type": "execute_result"
    }
   ],
   "source": [
    "# Moving Column Fields To Rows To Calculate Jump In Ratings From 2015 to 2017\n",
    "pivot = pd.pivot_table(avg_final,values='mean_x',index=['Hotel_Name'],columns = ['yr'])\n",
    "pivot.reset_index(inplace=True)\n",
    "\n",
    "pivot['diff'] = pivot[2015]-pivot[2017]\n",
    "pivot.sort_values(by='diff',ascending=True,inplace=True)\n",
    "\n",
    "# Keeping Hotels with highest jump in rating\n",
    "pivot.head(5)"
   ]
  },
  {
   "cell_type": "markdown",
   "id": "1524f11f",
   "metadata": {},
   "source": [
    "(1) \"Top Five Hotels Overall\" with consistently high ratings"
   ]
  },
  {
   "cell_type": "code",
   "execution_count": 824,
   "id": "9060c65e",
   "metadata": {},
   "outputs": [
    {
     "data": {
      "text/plain": [
       "<matplotlib.legend.Legend at 0x25512478dc0>"
      ]
     },
     "execution_count": 824,
     "metadata": {},
     "output_type": "execute_result"
    },
    {
     "data": {
      "image/png": "[encoded data removed]",
      "text/plain": [
       "<Figure size 720x720 with 1 Axes>"
      ]
     },
     "metadata": {
      "needs_background": "light"
     },
     "output_type": "display_data"
    }
   ],
   "source": [
    "import matplotlib.pyplot as plt\n",
    "\n",
    "yr = ['2015','2016','2017']\n",
    "plt.figure(figsize=(10,10))\n",
    "for i in range(0,15,3):\n",
    "    plt.plot(yr,top5['mean_x'].iloc[i:i+3],label=top5['Hotel_Name'][i])\n",
    "plt.legend(loc='upper right')"
   ]
  },
  {
   "cell_type": "markdown",
   "id": "6725615b",
   "metadata": {},
   "source": [
    "(2) Bottom Five Hotels Overall\" with consistently low ratings"
   ]
  },
  {
   "cell_type": "code",
   "execution_count": 825,
   "id": "527eaa59",
   "metadata": {},
   "outputs": [
    {
     "data": {
      "image/png": "[encoded data removed]",
      "text/plain": [
       "<Figure size 720x720 with 1 Axes>"
      ]
     },
     "metadata": {
      "needs_background": "light"
     },
     "output_type": "display_data"
    }
   ],
   "source": [
    "bottom5.index = range(15)\n",
    "yr = ['2015','2016','2017']\n",
    "plt.figure(figsize=(10,10))\n",
    "\n",
    "for i in range(0,15,3):\n",
    "    plt.plot(yr,bottom5['mean_x'].iloc[i:i+3],label=bottom5['Hotel_Name'][i])\n",
    "\n",
    "plt.legend(loc='upper right')"
   ]
  },
  {
   "cell_type": "markdown",
   "id": "88a6f030",
   "metadata": {},
   "source": [
    "(3) Five Most Improved Hotels\" (2015 to 2017)"
   ]
  },
  {
   "cell_type": "code",
   "execution_count": 848,
   "id": "7b85ae33",
   "metadata": {},
   "outputs": [
    {
     "data": {
      "text/plain": [
       "<matplotlib.legend.Legend at 0x25513370d90>"
      ]
     },
     "execution_count": 848,
     "metadata": {},
     "output_type": "execute_result"
    },
    {
     "data": {
      "image/png": "[encoded data removed]",
      "text/plain": [
       "<Figure size 720x720 with 1 Axes>"
      ]
     },
     "metadata": {
      "needs_background": "light"
     },
     "output_type": "display_data"
    }
   ],
   "source": [
    "unpivot = pd.melt(pivot.iloc[0:5], id_vars=['Hotel_Name'], value_vars=[2015,2016,2017])\n",
    "unpivot.sort_values(by=['Hotel_Name','yr'],inplace=True)\n",
    "unpivot\n",
    "yr = ['2015','2016','2017']\n",
    "plt.figure(figsize=(10,10))\n",
    "\n",
    "for i in range(0,15,3):\n",
    "    plt.plot(yr,unpivot['value'].iloc[i:i+3],label=unpivot['Hotel_Name'][i])\n",
    "plt.legend(loc='upper right')"
   ]
  },
  {
   "cell_type": "markdown",
   "id": "07537976",
   "metadata": {},
   "source": [
    "#### Tried Using Quintiles To Find Consistent Hotels"
   ]
  },
  {
   "cell_type": "code",
   "execution_count": 649,
   "id": "c0528a4d",
   "metadata": {},
   "outputs": [],
   "source": [
    "quantiles = data_flags.groupby('Hotel_Name')['Reviewer_Score'].apply(lambda x: x.quantile([0.25,0.5,0.75]) )"
   ]
  },
  {
   "cell_type": "code",
   "execution_count": 660,
   "id": "d5641727",
   "metadata": {},
   "outputs": [
    {
     "data": {
      "text/html": [
       "<div>\n",
       "<style scoped>\n",
       "    .dataframe tbody tr th:only-of-type {\n",
       "        vertical-align: middle;\n",
       "    }\n",
       "\n",
       "    .dataframe tbody tr th {\n",
       "        vertical-align: top;\n",
       "    }\n",
       "\n",
       "    .dataframe thead th {\n",
       "        text-align: right;\n",
       "    }\n",
       "</style>\n",
       "<table border=\"1\" class=\"dataframe\">\n",
       "  <thead>\n",
       "    <tr style=\"text-align: right;\">\n",
       "      <th></th>\n",
       "      <th></th>\n",
       "      <th>Reviewer_Score</th>\n",
       "    </tr>\n",
       "    <tr>\n",
       "      <th>Hotel_Name</th>\n",
       "      <th></th>\n",
       "      <th></th>\n",
       "    </tr>\n",
       "  </thead>\n",
       "  <tbody>\n",
       "    <tr>\n",
       "      <th rowspan=\"3\" valign=\"top\">41</th>\n",
       "      <th>0.25</th>\n",
       "      <td>9.6</td>\n",
       "    </tr>\n",
       "    <tr>\n",
       "      <th>0.50</th>\n",
       "      <td>10.0</td>\n",
       "    </tr>\n",
       "    <tr>\n",
       "      <th>0.75</th>\n",
       "      <td>10.0</td>\n",
       "    </tr>\n",
       "    <tr>\n",
       "      <th rowspan=\"3\" valign=\"top\">11 Cadogan Gardens</th>\n",
       "      <th>0.25</th>\n",
       "      <td>8.3</td>\n",
       "    </tr>\n",
       "    <tr>\n",
       "      <th>0.50</th>\n",
       "      <td>9.2</td>\n",
       "    </tr>\n",
       "    <tr>\n",
       "      <th>0.75</th>\n",
       "      <td>10.0</td>\n",
       "    </tr>\n",
       "    <tr>\n",
       "      <th rowspan=\"3\" valign=\"top\">1K Hotel</th>\n",
       "      <th>0.25</th>\n",
       "      <td>7.1</td>\n",
       "    </tr>\n",
       "    <tr>\n",
       "      <th>0.50</th>\n",
       "      <td>8.1</td>\n",
       "    </tr>\n",
       "    <tr>\n",
       "      <th>0.75</th>\n",
       "      <td>9.2</td>\n",
       "    </tr>\n",
       "    <tr>\n",
       "      <th>25hours Hotel beim MuseumsQuartier</th>\n",
       "      <th>0.25</th>\n",
       "      <td>8.3</td>\n",
       "    </tr>\n",
       "  </tbody>\n",
       "</table>\n",
       "</div>"
      ],
      "text/plain": [
       "                                         Reviewer_Score\n",
       "Hotel_Name                                             \n",
       "41                                 0.25             9.6\n",
       "                                   0.50            10.0\n",
       "                                   0.75            10.0\n",
       "11 Cadogan Gardens                 0.25             8.3\n",
       "                                   0.50             9.2\n",
       "                                   0.75            10.0\n",
       "1K Hotel                           0.25             7.1\n",
       "                                   0.50             8.1\n",
       "                                   0.75             9.2\n",
       "25hours Hotel beim MuseumsQuartier 0.25             8.3"
      ]
     },
     "execution_count": 660,
     "metadata": {},
     "output_type": "execute_result"
    }
   ],
   "source": [
    "df_quantiles = pd.DataFrame(quantiles)\n",
    "df_quantiles.head(10)                         "
   ]
  },
  {
   "cell_type": "code",
   "execution_count": 668,
   "id": "b53d3e45",
   "metadata": {},
   "outputs": [],
   "source": [
    "df_quantiles.reset_index(inplace=True)"
   ]
  },
  {
   "cell_type": "code",
   "execution_count": 671,
   "id": "0f9855fa",
   "metadata": {},
   "outputs": [
    {
     "data": {
      "text/html": [
       "<div>\n",
       "<style scoped>\n",
       "    .dataframe tbody tr th:only-of-type {\n",
       "        vertical-align: middle;\n",
       "    }\n",
       "\n",
       "    .dataframe tbody tr th {\n",
       "        vertical-align: top;\n",
       "    }\n",
       "\n",
       "    .dataframe thead th {\n",
       "        text-align: right;\n",
       "    }\n",
       "</style>\n",
       "<table border=\"1\" class=\"dataframe\">\n",
       "  <thead>\n",
       "    <tr style=\"text-align: right;\">\n",
       "      <th></th>\n",
       "      <th>Hotel_Name</th>\n",
       "      <th>level_1</th>\n",
       "      <th>Reviewer_Score</th>\n",
       "    </tr>\n",
       "  </thead>\n",
       "  <tbody>\n",
       "    <tr>\n",
       "      <th>0</th>\n",
       "      <td>41</td>\n",
       "      <td>0.25</td>\n",
       "      <td>9.6</td>\n",
       "    </tr>\n",
       "    <tr>\n",
       "      <th>1</th>\n",
       "      <td>41</td>\n",
       "      <td>0.50</td>\n",
       "      <td>10.0</td>\n",
       "    </tr>\n",
       "    <tr>\n",
       "      <th>2</th>\n",
       "      <td>41</td>\n",
       "      <td>0.75</td>\n",
       "      <td>10.0</td>\n",
       "    </tr>\n",
       "    <tr>\n",
       "      <th>3</th>\n",
       "      <td>11 Cadogan Gardens</td>\n",
       "      <td>0.25</td>\n",
       "      <td>8.3</td>\n",
       "    </tr>\n",
       "  </tbody>\n",
       "</table>\n",
       "</div>"
      ],
      "text/plain": [
       "           Hotel_Name  level_1  Reviewer_Score\n",
       "0                  41     0.25             9.6\n",
       "1                  41     0.50            10.0\n",
       "2                  41     0.75            10.0\n",
       "3  11 Cadogan Gardens     0.25             8.3"
      ]
     },
     "execution_count": 671,
     "metadata": {},
     "output_type": "execute_result"
    }
   ],
   "source": [
    "df_quantiles.head(4)"
   ]
  },
  {
   "cell_type": "code",
   "execution_count": 684,
   "id": "713408c9",
   "metadata": {
    "scrolled": false
   },
   "outputs": [
    {
     "name": "stdout",
     "output_type": "stream",
     "text": [
      "Top Five Hotels with consistently high ratings\n"
     ]
    },
    {
     "name": "stderr",
     "output_type": "stream",
     "text": [
      "C:\\Users\\amits\\anaconda3\\lib\\site-packages\\pandas\\util\\_decorators.py:311: SettingWithCopyWarning: \n",
      "A value is trying to be set on a copy of a slice from a DataFrame\n",
      "\n",
      "See the caveats in the documentation: https://pandas.pydata.org/pandas-docs/stable/user_guide/indexing.html#returning-a-view-versus-a-copy\n",
      "  return func(*args, **kwargs)\n"
     ]
    },
    {
     "data": {
      "text/html": [
       "<div>\n",
       "<style scoped>\n",
       "    .dataframe tbody tr th:only-of-type {\n",
       "        vertical-align: middle;\n",
       "    }\n",
       "\n",
       "    .dataframe tbody tr th {\n",
       "        vertical-align: top;\n",
       "    }\n",
       "\n",
       "    .dataframe thead th {\n",
       "        text-align: right;\n",
       "    }\n",
       "</style>\n",
       "<table border=\"1\" class=\"dataframe\">\n",
       "  <thead>\n",
       "    <tr style=\"text-align: right;\">\n",
       "      <th></th>\n",
       "      <th>Hotel_Name</th>\n",
       "      <th>level_1</th>\n",
       "      <th>Reviewer_Score</th>\n",
       "    </tr>\n",
       "  </thead>\n",
       "  <tbody>\n",
       "    <tr>\n",
       "      <th>0</th>\n",
       "      <td>41</td>\n",
       "      <td>0.25</td>\n",
       "      <td>9.6</td>\n",
       "    </tr>\n",
       "    <tr>\n",
       "      <th>2196</th>\n",
       "      <td>Hotel Plaza Athenee Paris</td>\n",
       "      <td>0.25</td>\n",
       "      <td>9.6</td>\n",
       "    </tr>\n",
       "    <tr>\n",
       "      <th>1002</th>\n",
       "      <td>Four Seasons Hotel George V Paris</td>\n",
       "      <td>0.25</td>\n",
       "      <td>9.6</td>\n",
       "    </tr>\n",
       "    <tr>\n",
       "      <th>1272</th>\n",
       "      <td>H tel Fabric</td>\n",
       "      <td>0.25</td>\n",
       "      <td>9.6</td>\n",
       "    </tr>\n",
       "    <tr>\n",
       "      <th>1416</th>\n",
       "      <td>H tel de La Tamise Esprit de France</td>\n",
       "      <td>0.25</td>\n",
       "      <td>9.6</td>\n",
       "    </tr>\n",
       "  </tbody>\n",
       "</table>\n",
       "</div>"
      ],
      "text/plain": [
       "                               Hotel_Name  level_1  Reviewer_Score\n",
       "0                                      41     0.25             9.6\n",
       "2196            Hotel Plaza Athenee Paris     0.25             9.6\n",
       "1002    Four Seasons Hotel George V Paris     0.25             9.6\n",
       "1272                         H tel Fabric     0.25             9.6\n",
       "1416  H tel de La Tamise Esprit de France     0.25             9.6"
      ]
     },
     "execution_count": 684,
     "metadata": {},
     "output_type": "execute_result"
    }
   ],
   "source": [
    "top_hotels_by_ratings = df_quantiles[(df_quantiles['level_1']==0.25) & (df_quantiles['Reviewer_Score']>=9)]\n",
    "top_hotels_by_ratings.sort_values(by='Reviewer_Score',ascending=False,inplace=True)\n",
    "print('Top Five Hotels with consistently high ratings')\n",
    "top_hotesl_by_ratings.head(5)"
   ]
  },
  {
   "cell_type": "code",
   "execution_count": 692,
   "id": "fa4ba974",
   "metadata": {},
   "outputs": [
    {
     "name": "stdout",
     "output_type": "stream",
     "text": [
      "Bottom Five Hotels with consistently low ratings\n"
     ]
    },
    {
     "name": "stderr",
     "output_type": "stream",
     "text": [
      "C:\\Users\\amits\\anaconda3\\lib\\site-packages\\pandas\\util\\_decorators.py:311: SettingWithCopyWarning: \n",
      "A value is trying to be set on a copy of a slice from a DataFrame\n",
      "\n",
      "See the caveats in the documentation: https://pandas.pydata.org/pandas-docs/stable/user_guide/indexing.html#returning-a-view-versus-a-copy\n",
      "  return func(*args, **kwargs)\n"
     ]
    },
    {
     "data": {
      "text/html": [
       "<div>\n",
       "<style scoped>\n",
       "    .dataframe tbody tr th:only-of-type {\n",
       "        vertical-align: middle;\n",
       "    }\n",
       "\n",
       "    .dataframe tbody tr th {\n",
       "        vertical-align: top;\n",
       "    }\n",
       "\n",
       "    .dataframe thead th {\n",
       "        text-align: right;\n",
       "    }\n",
       "</style>\n",
       "<table border=\"1\" class=\"dataframe\">\n",
       "  <thead>\n",
       "    <tr style=\"text-align: right;\">\n",
       "      <th></th>\n",
       "      <th>Hotel_Name</th>\n",
       "      <th>level_1</th>\n",
       "      <th>Reviewer_Score</th>\n",
       "    </tr>\n",
       "  </thead>\n",
       "  <tbody>\n",
       "    <tr>\n",
       "      <th>425</th>\n",
       "      <td>Best Western Maitrise Hotel Edgware Road</td>\n",
       "      <td>0.75</td>\n",
       "      <td>7.9</td>\n",
       "    </tr>\n",
       "    <tr>\n",
       "      <th>1481</th>\n",
       "      <td>Hallmark Hotel London Chigwell Prince Regent</td>\n",
       "      <td>0.75</td>\n",
       "      <td>7.9</td>\n",
       "    </tr>\n",
       "    <tr>\n",
       "      <th>2951</th>\n",
       "      <td>Mercure Paris 19 Philharmonie La Villette</td>\n",
       "      <td>0.75</td>\n",
       "      <td>7.9</td>\n",
       "    </tr>\n",
       "    <tr>\n",
       "      <th>2468</th>\n",
       "      <td>Idea Hotel Milano San Siro</td>\n",
       "      <td>0.75</td>\n",
       "      <td>7.9</td>\n",
       "    </tr>\n",
       "    <tr>\n",
       "      <th>533</th>\n",
       "      <td>Bloomsbury Palace Hotel</td>\n",
       "      <td>0.75</td>\n",
       "      <td>7.9</td>\n",
       "    </tr>\n",
       "  </tbody>\n",
       "</table>\n",
       "</div>"
      ],
      "text/plain": [
       "                                        Hotel_Name  level_1  Reviewer_Score\n",
       "425       Best Western Maitrise Hotel Edgware Road     0.75             7.9\n",
       "1481  Hallmark Hotel London Chigwell Prince Regent     0.75             7.9\n",
       "2951     Mercure Paris 19 Philharmonie La Villette     0.75             7.9\n",
       "2468                    Idea Hotel Milano San Siro     0.75             7.9\n",
       "533                        Bloomsbury Palace Hotel     0.75             7.9"
      ]
     },
     "execution_count": 692,
     "metadata": {},
     "output_type": "execute_result"
    }
   ],
   "source": [
    "bottom_hotels_by_ratings = df_quantiles[(df_quantiles['level_1']==0.75) & (df_quantiles['Reviewer_Score']<=8)]\n",
    "bottom_hotels_by_ratings.sort_values(by='Reviewer_Score',ascending=False,inplace=True)\n",
    "print('Bottom Five Hotels with consistently low ratings')\n",
    "bottom_hotels_by_ratings.head(5)"
   ]
  },
  {
   "cell_type": "markdown",
   "id": "a6dec47e",
   "metadata": {},
   "source": [
    "The End"
   ]
  }
 ],
 "metadata": {
  "kernelspec": {
   "display_name": "Python 3 (ipykernel)",
   "language": "python",
   "name": "python3"
  },
  "language_info": {
   "codemirror_mode": {
    "name": "ipython",
    "version": 3
   },
   "file_extension": ".py",
   "mimetype": "text/x-python",
   "name": "python",
   "nbconvert_exporter": "python",
   "pygments_lexer": "ipython3",
   "version": "3.9.7"
  }
 },
 "nbformat": 4,
 "nbformat_minor": 5
}
